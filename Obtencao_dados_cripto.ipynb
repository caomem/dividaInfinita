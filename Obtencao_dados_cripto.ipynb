{
 "cells": [
  {
   "cell_type": "markdown",
   "metadata": {},
   "source": [
    "### Imports:"
   ]
  },
  {
   "cell_type": "code",
   "execution_count": 1,
   "metadata": {},
   "outputs": [],
   "source": [
    "import numpy as np\n",
    "import datetime as dt\n",
    "import time\n",
    "import re\n",
    "import requests\n",
    "import matplotlib.pyplot as plt\n",
    "from pandas import Series, DataFrame, read_json, to_datetime, to_numeric\n",
    "#from pandas import Timedelta"
   ]
  },
  {
   "cell_type": "markdown",
   "metadata": {},
   "source": [
    "### Exemplos \"originais\" (via Telegram):"
   ]
  },
  {
   "cell_type": "code",
   "execution_count": 2,
   "metadata": {},
   "outputs": [],
   "source": [
    "dados = read_json('https://api.binance.com/api/v3/klines?symbol=BTCUSDT&interval=15m&limit=340')\n",
    "dados2 = read_json('https://api.binance.com/api/v3/klines?symbol=VETUSDT&interval=15m&startTime=1628125200000&endTime=1628989200000&limit=1000')"
   ]
  },
  {
   "cell_type": "markdown",
   "metadata": {},
   "source": [
    "### Exemplos interativos:"
   ]
  },
  {
   "cell_type": "code",
   "execution_count": null,
   "metadata": {},
   "outputs": [],
   "source": [
    "symbol = 'BTCUSDT'\n",
    "interval='15m'\n",
    "limit='340'\n",
    "\n",
    "dados3 = read_json('https://api.binance.com/api/v3/klines?symbol={}&interval={}&limit={}'.format(\n",
    "   symbol, interval, limit)\n",
    ")\n",
    "\n",
    "dados3.head()"
   ]
  },
  {
   "cell_type": "code",
   "execution_count": null,
   "metadata": {},
   "outputs": [],
   "source": [
    "fig = dados3[4].plot(figsize = (16,8), grid=True, fontsize = 18, linewidth=2.0)\n",
    "plt.title(f'{symbol} Close values over the time', fontdict = {'fontsize' : 25})\n",
    "\n",
    "\n",
    "print(dados3[4].min())\n",
    "print(dados3[4].max())\n",
    "\n",
    "print((dados3[4].max() - dados3[4].min())/(dados3[4].max()))\n"
   ]
  },
  {
   "cell_type": "code",
   "execution_count": null,
   "metadata": {},
   "outputs": [],
   "source": [
    "symbol = 'VETUSDT'\n",
    "interval='15m'\n",
    "limit='1000'\n",
    "\n",
    "data_inicio = '2021-08-04'\n",
    "horario_inicio = '22:00'\n",
    "\n",
    "data_fim = '2021-08-14'\n",
    "horario_fim = '22:00'\n",
    "\n",
    "startTime = int(dt.datetime.fromisoformat(data_inicio+'T'+horario_inicio).timestamp()) * 1000\n",
    "endTime = int(dt.datetime.fromisoformat(data_fim+'T'+horario_fim).timestamp()) * 1000\n",
    "\n",
    "dados4 = read_json('https://api.binance.com/api/v3/klines?symbol={}&interval={}&startTime={}&endTime={}&limit={}'.format(\n",
    "   symbol, interval, startTime, endTime, limit)\n",
    ")\n",
    "\n",
    "dados4.head()"
   ]
  },
  {
   "cell_type": "markdown",
   "metadata": {},
   "source": [
    "### Coletando dados de um range largo de datas e exportando resultados:"
   ]
  },
  {
   "cell_type": "code",
   "execution_count": 5,
   "metadata": {},
   "outputs": [],
   "source": [
    "symbols = ['BTC','ETH','BNB']\n",
    "#symbols = ['DOGE','CHZ','MATIC','XRP','BNB','XLM','THETA','VET','ETC','BTT','FIL','ADA','LTC','UNI','TRX','ENJ','DOT','EOS','ETH','BCH','ATOM','LINK','AXS','NEO','BTC','XTZ','MKR','AAVE','XMR','FTT','ALGO','SOL']\n"
   ]
  },
  {
   "cell_type": "code",
   "execution_count": 6,
   "metadata": {},
   "outputs": [],
   "source": [
    "def gerar_csv_dados_cripto(symbol, interval, limit, data_inicio=None, horario_inicio=None, data_fim=None, horario_fim=None, log=True):\n",
    "    if(interval == '1m'):\n",
    "        delta = dt.timedelta(hours=16)\n",
    "    elif(interval == '3m'):\n",
    "        delta = dt.timedelta(days=2)\n",
    "    elif(interval == '5m'):\n",
    "        delta = dt.timedelta(days=3)\n",
    "    elif(interval == '15m'):\n",
    "        delta = dt.timedelta(days=10)\n",
    "    elif(interval == '30m'):\n",
    "        delta = dt.timedelta(days=20, hours=20)\n",
    "    elif(interval == '1h'):\n",
    "        delta = dt.timedelta(days=40)\n",
    "    elif(interval == '2h'):\n",
    "        delta = dt.timedelta(days=80)\n",
    "    elif(interval == '4h'):\n",
    "        delta = dt.timedelta(days=160)\n",
    "    elif(interval == '6h'):\n",
    "        delta = dt.timedelta(days=240)\n",
    "    elif(interval == '8h'):\n",
    "        delta = dt.timedelta(days=320)\n",
    "    elif(interval == '12h'):\n",
    "        delta = dt.timedelta(days=480)\n",
    "    elif(interval == '1d'):\n",
    "        delta = dt.timedelta(days=1000)\n",
    "    elif(interval == '3d'):\n",
    "        delta = dt.timedelta(days=3000)\n",
    "    elif(interval == '1w'):\n",
    "        delta = dt.timedelta(weeks=1000)\n",
    "    elif(interval == '1M'):\n",
    "        delta = dt.timedelta(weeks=4000)\n",
    "    else:\n",
    "        raise ValueError('intervalError')\n",
    "        \n",
    "    if(horario_inicio == None):\n",
    "        horario_inicio = '00:00:00'\n",
    "    if(horario_fim == None):\n",
    "        #horario_fim = dt.datetime.now()\n",
    "        #horario_fim = str(horario_fim.hour)+':'+str(horario_fim.minute)+':'+str(horario_fim.second)\n",
    "        horario_fim = '23:59:59'\n",
    "        \n",
    "    if(limit > 1000):\n",
    "        limit = 1000\n",
    "    if(limit <= 0):\n",
    "        raise ValueError('limitError')\n",
    "        \n",
    "    if(data_inicio == None):\n",
    "        path_dados = 'https://api.binance.com/api/v3/klines?symbol={}&interval={}&limit={}'.format(\n",
    "            symbol, interval, limit\n",
    "        )\n",
    "        dados_atual = read_json(path_dados).iloc[:, :5]\n",
    "        dados_atual.insert(loc=0, column='Date-Time', value = dados_atual[0].apply(lambda x : dt.datetime.fromtimestamp(x/1000)))\n",
    "        \n",
    "        print('Gerando arquivo .csv...')\n",
    "\n",
    "        dados_atual.columns = ['Date-Time', 'Timestamp', 'Open', 'Max', 'Min', 'Close']\n",
    "        dados_atual.set_index('Date-Time', inplace=True)\n",
    "\n",
    "        dados_atual.to_csv(f'dados_{symbol}_{interval}.csv')\n",
    "\n",
    "        print('Procedimento realizado com sucesso!')\n",
    "    \n",
    "        return\n",
    "    elif((data_inicio != None) and (data_fim != None)):\n",
    "        path_dados_base = 'https://api.binance.com/api/v3/klines?symbol={}&interval={}&startTime={}&endTime={}&limit={}'\n",
    "        limit = 1000\n",
    "    else:\n",
    "        data_fim = dt.datetime.now()\n",
    "        data_fim = str(data_fim.year)+'-'+str(data_fim.month)+'-'+str(data_fim.day)\n",
    "        \n",
    "        path_dados_base = 'https://api.binance.com/api/v3/klines?symbol={}&interval={}&startTime={}&endTime={}&limit={}'\n",
    "        \n",
    "        limit = 1000\n",
    "\n",
    "    data_atual = dt.datetime.fromisoformat(data_inicio+'T'+horario_inicio)\n",
    "\n",
    "    dados_list = list()\n",
    "    \n",
    "    primeiro_laco = True\n",
    "\n",
    "    momento_final = dt.datetime.fromisoformat(data_fim+'T'+horario_fim)\n",
    "    momento_final_timestamp = int(dt.datetime.timestamp(momento_final)) * 1000\n",
    "    \n",
    "    it_count = 1\n",
    "    \n",
    "    while(data_atual < momento_final):\n",
    "        if(log):\n",
    "            print('Iteracao Atual:', it_count)\n",
    "            print('Data Atual:', data_atual)\n",
    "\n",
    "        startTime = int(data_atual.timestamp()) * 1000\n",
    "        aux_endTime = int( (data_atual + delta).timestamp()) * 1000\n",
    "        if(aux_endTime < momento_final_timestamp):\n",
    "            endTime = aux_endTime\n",
    "        else:\n",
    "            endTime = momento_final_timestamp\n",
    "\n",
    "        \n",
    "        dados_iter = re.findall(r'\\[[\\d]+,\"[\\d]+.[\\d]+\",\"[\\d]+.[\\d]+\",\"[\\d]+.[\\d]+\",\"[\\d]+.[\\d]+\"', requests.get(\n",
    "            path_dados_base.format(symbol, interval, startTime, endTime, limit)).text\n",
    "        )\n",
    "        \n",
    "        if(primeiro_laco):\n",
    "            dados_list.extend(dados_iter)\n",
    "        else:\n",
    "            dados_list.extend(dados_iter[1:])\n",
    "\n",
    "        data_atual += delta\n",
    "        it_count += 1\n",
    "        \n",
    "        primeiro_laco = False\n",
    "\n",
    "    print('Gerando arquivo .csv...')        \n",
    "\n",
    "    dados_completo = Series(dados_list).str.replace('[\\[\"]', '', regex=True)\n",
    "    dados_completo = DataFrame([dados_completo[i].split(',') for i in range(len(dados_completo))])\n",
    "    dados_completo = dados_completo.apply(to_numeric)\n",
    "    \n",
    "    dados_completo.insert(0, 'Date-Time', (dados_completo[0]/1000).apply(lambda x : dt.datetime.fromtimestamp(x)))\n",
    "\n",
    "    dados_completo.columns = ['Date-Time', 'Timestamp', 'Open', 'Max', 'Min', 'Close']\n",
    "    dados_completo.set_index('Date-Time', inplace=True)\n",
    "\n",
    "    dados_completo.to_csv(f'dados_{symbol}_{interval}.csv')\n",
    "\n",
    "    print('Procedimento realizado com sucesso!')\n",
    "    \n",
    "    return"
   ]
  },
  {
   "cell_type": "code",
   "execution_count": 8,
   "metadata": {},
   "outputs": [
    {
     "name": "stdout",
     "output_type": "stream",
     "text": [
      "Gerando arquivo .csv...\n",
      "Procedimento realizado com sucesso!\n",
      "Tempo do procedimento: 5.530316114425659 s\n"
     ]
    }
   ],
   "source": [
    "time_init = time.time()\n",
    "gerar_csv_dados_cripto(symbol='BTCUSDT', interval='30m', limit=1000, data_inicio='2021-06-01', log=False)\n",
    "print('Tempo do procedimento:', time.time() - time_init, 's')"
   ]
  }
 ],
 "metadata": {
  "kernelspec": {
   "display_name": "Python 3",
   "language": "python",
   "name": "python3"
  },
  "language_info": {
   "codemirror_mode": {
    "name": "ipython",
    "version": 3
   },
   "file_extension": ".py",
   "mimetype": "text/x-python",
   "name": "python",
   "nbconvert_exporter": "python",
   "pygments_lexer": "ipython3",
   "version": "3.8.5"
  }
 },
 "nbformat": 4,
 "nbformat_minor": 4
}
