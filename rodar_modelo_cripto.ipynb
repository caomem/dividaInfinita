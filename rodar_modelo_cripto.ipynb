{
 "cells": [
  {
   "cell_type": "markdown",
   "metadata": {},
   "source": [
    "### Imports:"
   ]
  },
  {
   "cell_type": "code",
   "execution_count": 1,
   "metadata": {},
   "outputs": [],
   "source": [
    "import numpy as np\n",
    "import pandas as pd\n",
    "from Modelo_cripto_SVM import Modelo_cripto_SVM"
   ]
  },
  {
   "cell_type": "markdown",
   "metadata": {},
   "source": [
    "### Teste do Modelo 1:"
   ]
  },
  {
   "cell_type": "code",
   "execution_count": 2,
   "metadata": {},
   "outputs": [
    {
     "data": {
      "text/plain": [
       "array([-1, -1, -1,  1,  1,  1, -1, -1,  1, -1,  1,  1,  1, -1, -1,  1,  1,\n",
       "        1,  1, -1, -1, -1,  1,  1, -1,  1,  1, -1, -1, -1, -1,  1,  1,  1,\n",
       "       -1, -1,  1,  1,  1, -1, -1,  1,  1, -1,  1,  1,  1, -1,  1,  1,  1,\n",
       "        1,  1, -1,  1,  1,  1,  1, -1, -1, -1, -1, -1,  1,  1, -1, -1,  1,\n",
       "       -1,  1,  1,  1,  1, -1, -1,  1, -1,  1,  1, -1,  1,  1,  1, -1, -1,\n",
       "        1, -1,  1,  1,  1, -1, -1, -1,  1,  1, -1,  1,  1,  1, -1],\n",
       "      dtype=int64)"
      ]
     },
     "execution_count": 2,
     "metadata": {},
     "output_type": "execute_result"
    }
   ],
   "source": [
    "y_vals = pd.Series(np.random.random(100).round())\n",
    "aux_dict = {0:-1, 1:1}\n",
    "y_vals = y_vals.map(aux_dict).to_numpy()\n",
    "y_vals"
   ]
  },
  {
   "cell_type": "code",
   "execution_count": 3,
   "metadata": {},
   "outputs": [
    {
     "data": {
      "text/plain": [
       "array([[ 7.82393923e+00,  5.92247307e-01, -8.37594066e-01, ...,\n",
       "        -1.59852315e+00,  3.41512187e-01,  5.23576084e-01],\n",
       "       [ 5.92247307e-01,  8.06835043e+00, -1.32453197e+00, ...,\n",
       "        -1.30002893e-01, -8.18081596e-03,  7.12662384e-01],\n",
       "       [-8.37594066e-01, -1.32453197e+00,  7.72217869e+00, ...,\n",
       "        -9.56455292e-01, -8.17284218e-01, -1.37429667e+00],\n",
       "       ...,\n",
       "       [-1.59852315e+00, -1.30002893e-01, -9.56455292e-01, ...,\n",
       "         8.51613237e+00,  7.60974830e-01, -1.95570672e+00],\n",
       "       [ 3.41512187e-01, -8.18081596e-03, -8.17284218e-01, ...,\n",
       "         7.60974830e-01,  8.56002866e+00, -1.04424632e+00],\n",
       "       [ 5.23576084e-01,  7.12662384e-01, -1.37429667e+00, ...,\n",
       "        -1.95570672e+00, -1.04424632e+00,  9.43763831e+00]])"
      ]
     },
     "execution_count": 3,
     "metadata": {},
     "output_type": "execute_result"
    }
   ],
   "source": [
    "n = len(y_vals)\n",
    "n\n",
    "\n",
    "x_vals = dict()\n",
    "for j in range(n):\n",
    "    x_vals[j] = (np.random.random(100) - 0.5)\n",
    "\n",
    "Sigma = np.zeros((n, n))\n",
    "for i in range(n):\n",
    "    for j in range(n):\n",
    "        Sigma[i, j] = (x_vals[i] * x_vals[j]).sum()\n",
    "\n",
    "Sigma"
   ]
  },
  {
   "cell_type": "code",
   "execution_count": 4,
   "metadata": {},
   "outputs": [
    {
     "data": {
      "text/plain": [
       "1"
      ]
     },
     "execution_count": 4,
     "metadata": {},
     "output_type": "execute_result"
    }
   ],
   "source": [
    "lambda_val = 1\n",
    "lambda_val"
   ]
  },
  {
   "cell_type": "code",
   "execution_count": 5,
   "metadata": {},
   "outputs": [
    {
     "name": "stdout",
     "output_type": "stream",
     "text": [
      "Academic license - for non-commercial use only - expires 2021-11-05\n",
      "Using license file C:\\Users\\Eduardo\\gurobi.lic\n"
     ]
    }
   ],
   "source": [
    "modelo = Modelo_cripto_SVM(Sigma, y_vals, lambda_val)\n",
    "d_vals = modelo.solve(log=0)"
   ]
  },
  {
   "cell_type": "code",
   "execution_count": 6,
   "metadata": {},
   "outputs": [
    {
     "data": {
      "text/plain": [
       "array([-5.000e-03, -5.000e-03, -5.000e-03,  4.585e-03,  5.000e-03,\n",
       "        3.163e-03, -5.000e-03, -5.000e-03,  4.762e-03, -5.000e-03,\n",
       "        5.000e-03,  0.000e+00,  0.000e+00, -5.000e-03, -5.000e-03,\n",
       "        5.000e-03,  5.000e-03,  5.000e-03,  4.494e-03, -5.000e-03,\n",
       "       -5.000e-03, -5.000e-03,  5.000e-03,  5.000e-03, -5.000e-03,\n",
       "        0.000e+00,  5.000e-03, -5.000e-03, -5.000e-03, -5.000e-03,\n",
       "       -5.000e-03,  1.288e-03,  2.304e-03,  1.607e-03, -5.000e-03,\n",
       "       -5.000e-03,  5.000e-03,  5.000e-03,  5.000e-03, -5.000e-03,\n",
       "       -5.000e-03,  5.000e-03,  5.000e-03, -5.000e-03,  5.000e-03,\n",
       "        5.000e-03,  3.253e-03, -5.000e-03,  2.322e-03,  3.972e-03,\n",
       "        2.862e-03,  5.000e-03,  5.000e-03, -5.000e-03,  5.000e-03,\n",
       "        5.000e-03,  5.000e-03,  5.000e-03, -5.000e-03, -5.000e-03,\n",
       "       -5.000e-03, -5.000e-03, -5.000e-03,  0.000e+00,  3.896e-03,\n",
       "       -5.000e-03, -5.000e-03,  5.000e-03, -5.000e-03,  4.315e-03,\n",
       "        8.620e-04,  5.000e-03,  5.000e-03, -5.000e-03, -5.000e-03,\n",
       "        2.319e-03, -5.000e-03,  3.963e-03,  5.000e-03, -5.000e-03,\n",
       "        5.000e-03,  4.458e-03,  4.291e-03, -5.000e-03, -5.000e-03,\n",
       "        4.000e-06, -5.000e-03,  5.000e-03,  5.000e-03,  5.000e-03,\n",
       "       -5.000e-03, -5.000e-03, -5.000e-03,  5.000e-03,  0.000e+00,\n",
       "       -5.000e-03,  5.000e-03,  0.000e+00,  1.280e-03, -5.000e-03])"
      ]
     },
     "execution_count": 6,
     "metadata": {},
     "output_type": "execute_result"
    }
   ],
   "source": [
    "d_vals.round(6)"
   ]
  },
  {
   "cell_type": "code",
   "execution_count": 21,
   "metadata": {},
   "outputs": [
    {
     "data": {
      "text/plain": [
       "array([ 5.000e-03,  5.000e-03,  5.000e-03,  5.000e-03,  5.000e-03,\n",
       "       -1.600e-05, -5.000e-03,  5.000e-03, -2.850e-03,  5.000e-03,\n",
       "        5.000e-03, -5.000e-03,  5.000e-03,  5.000e-03,  5.000e-03,\n",
       "        5.000e-03,  5.000e-03, -5.000e-03, -5.000e-03,  5.000e-03,\n",
       "        5.000e-03, -5.000e-03, -5.000e-03,  5.000e-03, -5.000e-03,\n",
       "        5.000e-03, -5.000e-03,  5.000e-03,  5.000e-03, -5.000e-03,\n",
       "        5.000e-03, -5.000e-03,  5.000e-03, -5.000e-03,  5.000e-03,\n",
       "       -5.000e-03,  5.000e-03,  5.000e-03,  5.000e-03,  5.000e-03,\n",
       "        5.000e-03, -5.000e-03,  5.000e-03, -5.000e-03,  5.000e-03,\n",
       "        5.000e-03,  5.000e-03, -5.000e-03, -5.000e-03,  5.000e-03,\n",
       "        5.000e-03, -4.114e-03, -5.000e-03,  5.000e-03,  5.000e-03,\n",
       "       -5.000e-03, -5.000e-03, -5.000e-03, -5.000e-03, -4.919e-03,\n",
       "       -5.000e-03, -5.000e-03, -5.000e-03,  5.000e-03, -5.000e-03,\n",
       "       -5.000e-03,  5.000e-03,  5.000e-03, -5.000e-03, -5.000e-03,\n",
       "       -5.000e-03, -5.000e-03, -3.942e-03, -5.000e-03, -5.000e-03,\n",
       "       -5.000e-03,  5.000e-03,  5.000e-03,  5.000e-03, -5.000e-03,\n",
       "        5.000e-03,  5.000e-03, -5.000e-03,  5.000e-03, -5.000e-03,\n",
       "       -5.000e-03, -5.000e-03, -4.160e-03, -5.000e-03, -5.000e-03,\n",
       "        5.000e-03, -5.000e-03,  5.000e-03, -5.000e-03, -5.000e-03,\n",
       "       -5.000e-03,  5.000e-03,  5.000e-03,  5.000e-03, -5.000e-03])"
      ]
     },
     "execution_count": 21,
     "metadata": {},
     "output_type": "execute_result"
    }
   ],
   "source": [
    "modelo.update_lambda(20)\n",
    "modelo.lambda_val\n",
    "(modelo.solve() - d_vals).max()\n",
    "modelo.solve().round(6)"
   ]
  },
  {
   "cell_type": "markdown",
   "metadata": {},
   "source": [
    "### Testando o modelo com os dados reais:"
   ]
  },
  {
   "cell_type": "code",
   "execution_count": 9,
   "metadata": {},
   "outputs": [
    {
     "data": {
      "text/plain": [
       "array([0.09671, 0.09672, 0.09751, ..., 0.11818, 0.11892, 0.11886])"
      ]
     },
     "execution_count": 9,
     "metadata": {},
     "output_type": "execute_result"
    }
   ],
   "source": [
    "dados = pd.read_csv('dados_VETUSDT_15m.csv', usecols=['Date-Time', 'Close'], index_col=0)\n",
    "dados.index = pd.to_datetime(dados.index)\n",
    "\n",
    "dados = dados.loc['2021-10-01':, 'Close'].to_numpy()\n",
    "#pd.Series(dados['Close']).to_numpy()\n",
    "dados"
   ]
  },
  {
   "cell_type": "code",
   "execution_count": 10,
   "metadata": {},
   "outputs": [
    {
     "name": "stdout",
     "output_type": "stream",
     "text": [
      "Tempo \"preparar_x_y_cripto\": 0.01500082015991211 s\n",
      "Tempo \"calcular_Sigma\": 2.5611464977264404 s\n",
      "OK!\n"
     ]
    }
   ],
   "source": [
    "from utils_cripto import preparar_x_y_cripto\n",
    "from utils_cripto import calcular_Sigma\n",
    "\n",
    "import time\n",
    "\n",
    "time_init = time.time()\n",
    "x_vals, y_vals = preparar_x_y_cripto(dados)\n",
    "print('Tempo \"preparar_x_y_cripto\":', time.time() - time_init, 's')\n",
    "\n",
    "time_init = time.time()\n",
    "Sigma = calcular_Sigma(x_vals)\n",
    "print('Tempo \"calcular_Sigma\":', time.time() - time_init, 's')\n",
    "\n",
    "print(\"OK!\")"
   ]
  },
  {
   "cell_type": "markdown",
   "metadata": {},
   "source": [
    "##### Para problemas GRANDES, podemos utilizar:"
   ]
  },
  {
   "cell_type": "code",
   "execution_count": 11,
   "metadata": {},
   "outputs": [
    {
     "name": "stdout",
     "output_type": "stream",
     "text": [
      "Tempo \"preparar_x_y_cripto\": 0.018001079559326172 s\n",
      "Tempo \"calcular_Sigma\": 0.369020938873291 s\n",
      "OK!\n"
     ]
    }
   ],
   "source": [
    "from utils_cripto import preparar_x_y_cripto\n",
    "from utils_cripto import numba_calcular_Sigma\n",
    "from numba.typed import List\n",
    "\n",
    "import time\n",
    "\n",
    "time_init = time.time()\n",
    "x_vals, y_vals = preparar_x_y_cripto(dados)\n",
    "print('Tempo \"preparar_x_y_cripto\":', time.time() - time_init, 's')\n",
    "\n",
    "time_init = time.time()\n",
    "Sigma = numba_calcular_Sigma(List(x_vals))\n",
    "print('Tempo \"calcular_Sigma\":', time.time() - time_init, 's')\n",
    "\n",
    "print(\"OK!\")"
   ]
  },
  {
   "cell_type": "code",
   "execution_count": 7,
   "metadata": {},
   "outputs": [
    {
     "name": "stdout",
     "output_type": "stream",
     "text": [
      "Academic license - for non-commercial use only - expires 2021-11-05\n",
      "Using license file C:\\Users\\Eduardo\\gurobi.lic\n",
      "Parameter LogToConsole unchanged\n",
      "   Value: 1  Min: 0  Max: 1  Default: 1\n",
      "Gurobi Optimizer version 9.1.2 build v9.1.2rc0 (win64)\n",
      "Thread count: 2 physical cores, 4 logical processors, using up to 4 threads\n",
      "Optimize a model with 1608 rows, 1607 columns and 3214 nonzeros\n",
      "Model fingerprint: 0x2ffaec27\n",
      "Model has 1292028 quadratic objective terms\n",
      "Coefficient statistics:\n",
      "  Matrix range     [1e+00, 1e+00]\n",
      "  Objective range  [1e+00, 1e+00]\n",
      "  QObjective range [1e+00, 3e+00]\n",
      "  Bounds range     [3e-04, 3e-04]\n",
      "  RHS range        [0e+00, 0e+00]\n",
      "Presolve removed 1607 rows and 0 columns\n",
      "Presolve time: 0.37s\n",
      "Presolved: 1 rows, 1607 columns, 1607 nonzeros\n",
      "Presolved model has 1292028 quadratic objective terms\n",
      "Ordering time: 0.00s\n",
      "\n",
      "Barrier statistics:\n",
      " Free vars  : 100\n",
      " AA' NZ     : 5.050e+03\n",
      " Factor NZ  : 5.151e+03 (roughly 1 MByte of memory)\n",
      " Factor Ops : 3.486e+05 (less than 1 second per iteration)\n",
      " Threads    : 2\n",
      "\n",
      "                  Objective                Residual\n",
      "Iter       Primal          Dual         Primal    Dual     Compl     Time\n",
      "   0  -9.99977134e+03  5.00247978e+02  1.61e+06 3.18e-08  1.00e+06     1s\n",
      "   1  -9.75050202e+00  5.00247822e+02  1.61e+03 3.18e-11  1.00e+03     1s\n",
      "   2   2.38812141e-01  5.00513998e+02  1.36e+00 6.82e-13  1.00e+00     1s\n",
      "   3   2.47995581e-01  3.58407023e+02  1.36e-06 6.82e-13  1.11e-01     1s\n",
      "   4   2.48514652e-01  8.57822348e-01  9.56e-10 3.52e-13  1.90e-04     1s\n",
      "   5   4.51364529e-01  5.08337123e-01  6.38e-16 8.88e-16  1.77e-05     1s\n",
      "   6   4.92796553e-01  4.96305039e-01  6.66e-16 6.66e-16  1.09e-06     1s\n",
      "   7   4.92621010e-01  4.93095984e-01  1.67e-16 2.66e-15  1.48e-07     1s\n",
      "   8   4.92841974e-01  4.92845495e-01  1.67e-16 1.78e-15  1.10e-09     1s\n",
      "   9   4.92843243e-01  4.92845076e-01  2.22e-16 1.55e-15  5.70e-10     1s\n",
      "  10   4.92843690e-01  4.92843726e-01  6.66e-16 1.33e-15  1.11e-11     1s\n",
      "  11   4.92843695e-01  4.92843722e-01  2.78e-16 1.11e-15  8.36e-12     1s\n",
      "  12   4.92843699e-01  4.92843719e-01  9.44e-16 1.33e-15  6.10e-12     1s\n",
      "  13   4.92843703e-01  4.92843714e-01  1.11e-15 1.33e-15  3.47e-12     1s\n",
      "\n",
      "Barrier solved model in 13 iterations and 1.32 seconds\n",
      "Optimal objective 4.92843703e-01\n",
      "\n"
     ]
    }
   ],
   "source": [
    "lambda_val = 1\n",
    "modelo = Modelo_cripto_SVM(Sigma, y_vals, lambda_val)\n",
    "d_vals = modelo.solve(log=1)"
   ]
  },
  {
   "cell_type": "code",
   "execution_count": 8,
   "metadata": {},
   "outputs": [
    {
     "data": {
      "text/plain": [
       "array([ 0.00031114, -0.00031107, -0.00031107, ...,  0.00031114,\n",
       "        0.00031114, -0.00030984])"
      ]
     },
     "execution_count": 8,
     "metadata": {},
     "output_type": "execute_result"
    }
   ],
   "source": [
    "d_vals"
   ]
  }
 ],
 "metadata": {
  "kernelspec": {
   "display_name": "Python 3",
   "language": "python",
   "name": "python3"
  },
  "language_info": {
   "codemirror_mode": {
    "name": "ipython",
    "version": 3
   },
   "file_extension": ".py",
   "mimetype": "text/x-python",
   "name": "python",
   "nbconvert_exporter": "python",
   "pygments_lexer": "ipython3",
   "version": "3.8.5"
  }
 },
 "nbformat": 4,
 "nbformat_minor": 4
}
